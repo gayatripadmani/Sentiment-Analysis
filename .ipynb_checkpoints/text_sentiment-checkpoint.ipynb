{
 "cells": [
  {
   "cell_type": "markdown",
   "id": "90adad7a",
   "metadata": {},
   "source": [
    "# Business Problem\n",
    "\n",
    "**Amazon is a global e-commerce platform where millions of products are reviewed. This project aims to analyze and model the sentiments expressed in Amazon customer reviews.**\n",
    "\n",
    "By analyzing the text of the reviews and the ratings given, in-depth information about customer satisfaction and preferences can be obtained. These insights can contribute to product development, targeted marketing strategies, and improvement of customer services. This analysis involves the challenge of efficiently processing large volumes of textual data and accurately  interpreting the nuanced emotions expressed. A successful sentiment analysis and modeling implementation can significantly  contribute to increasing customer trust and loyalty, thereby driving business growth.\n",
    "\n",
    "\n",
    "# Dataset : \n",
    "\n",
    "\n",
    "**Dataset Origin:** This dataset comprises Amazon product reviews, spanning various categories and years.\n",
    "\n",
    "\n",
    "**Dataset Link : https://www.kaggle.com/datasets/tarkkaanko/amazon**\n",
    "\n",
    "\n",
    "### **Attributes:**\n",
    "\n",
    "**ReviewerID:** Unique identifier of the reviewer\n",
    "\n",
    "**ProductID (asin):** Unique identifier of the product\n",
    "\n",
    "**ReviewerName:** Name of the reviewer\n",
    "\n",
    "**ReviewText:** Text of the review\n",
    "\n",
    "**Overall:** Rating given by the reviewer\n",
    "\n",
    "**Summary:** Short summary of the review\n",
    "\n",
    "**UnixReviewTime:** Time of the review (UNIX format)\n",
    "\n",
    "**ReviewTime:** Time of the review in a human-readable format\n",
    "\n",
    "**Helpful:** Votes for the review being helpful\n",
    "\n",
    "**Day_diff:** Number of days between the review time and a specific reference time\n",
    "\n",
    "**Helpful_yes:** Number of votes indicating the review was helpful\n",
    "\n",
    "**Total_vote:** Total number of votes for the review\n",
    "\n",
    "\n",
    "**Objective:** To perform sentiment analysis and sentiment modeling on the review texts to understand customer preferences and satisfaction levels."
   ]
  },
  {
   "cell_type": "markdown",
   "id": "36ca0d6f",
   "metadata": {},
   "source": [
    "# 1 | Importing Libraries"
   ]
  },
  {
   "cell_type": "code",
   "execution_count": 1,
   "id": "2d3804bd",
   "metadata": {},
   "outputs": [],
   "source": [
    "from warnings import filterwarnings\n",
    "import matplotlib.pyplot as plt\n",
    "import numpy as np\n",
    "import pandas as pd\n",
    "import nltk\n",
    "from PIL import Image\n",
    "from nltk.corpus import stopwords\n",
    "from nltk.tokenize import word_tokenize\n",
    "from nltk.sentiment import SentimentIntensityAnalyzer\n",
    "from sklearn.feature_extraction.text import CountVectorizer\n",
    "from sklearn.feature_extraction.text import TfidfVectorizer\n",
    "from sklearn.ensemble import RandomForestClassifier\n",
    "from sklearn.linear_model import LogisticRegression\n",
    "from sklearn.model_selection import cross_val_score, GridSearchCV, cross_validate\n",
    "from sklearn.preprocessing import LabelEncoder\n",
    "from textblob import Word, TextBlob\n",
    "from wordcloud import WordCloud"
   ]
  },
  {
   "cell_type": "markdown",
   "id": "5c636e2c",
   "metadata": {},
   "source": [
    "# 2 | Adjusting Row Column Settings"
   ]
  },
  {
   "cell_type": "code",
   "execution_count": 2,
   "id": "a65983aa",
   "metadata": {},
   "outputs": [],
   "source": [
    "filterwarnings('ignore')\n",
    "pd.set_option('display.max_columns', None)\n",
    "pd.set_option('display.width', 200)\n",
    "pd.set_option('display.float_format', lambda x: '%.2f' % x)"
   ]
  },
  {
   "cell_type": "markdown",
   "id": "ed28801c",
   "metadata": {},
   "source": [
    "# 3 | Text Preprocessing"
   ]
  },
  {
   "cell_type": "code",
   "execution_count": 3,
   "id": "62011cde",
   "metadata": {},
   "outputs": [],
   "source": [
    "# Loading data set\n",
    "\n",
    "df = pd.read_csv(\"amazon/amazon_reviews.csv\")"
   ]
  },
  {
   "cell_type": "code",
   "execution_count": 4,
   "id": "cd33f10d",
   "metadata": {},
   "outputs": [
    {
     "data": {
      "text/html": [
       "<div>\n",
       "<style scoped>\n",
       "    .dataframe tbody tr th:only-of-type {\n",
       "        vertical-align: middle;\n",
       "    }\n",
       "\n",
       "    .dataframe tbody tr th {\n",
       "        vertical-align: top;\n",
       "    }\n",
       "\n",
       "    .dataframe thead th {\n",
       "        text-align: right;\n",
       "    }\n",
       "</style>\n",
       "<table border=\"1\" class=\"dataframe\">\n",
       "  <thead>\n",
       "    <tr style=\"text-align: right;\">\n",
       "      <th></th>\n",
       "      <th>reviewerID</th>\n",
       "      <th>asin</th>\n",
       "      <th>reviewerName</th>\n",
       "      <th>helpful</th>\n",
       "      <th>reviewText</th>\n",
       "      <th>overall</th>\n",
       "      <th>summary</th>\n",
       "      <th>unixReviewTime</th>\n",
       "      <th>reviewTime</th>\n",
       "      <th>day_diff</th>\n",
       "      <th>helpful_yes</th>\n",
       "      <th>total_vote</th>\n",
       "    </tr>\n",
       "  </thead>\n",
       "  <tbody>\n",
       "    <tr>\n",
       "      <th>0</th>\n",
       "      <td>A3SBTW3WS4IQSN</td>\n",
       "      <td>B007WTAJTO</td>\n",
       "      <td>NaN</td>\n",
       "      <td>[0, 0]</td>\n",
       "      <td>No issues.</td>\n",
       "      <td>4.00</td>\n",
       "      <td>Four Stars</td>\n",
       "      <td>1406073600</td>\n",
       "      <td>2014-07-23</td>\n",
       "      <td>138</td>\n",
       "      <td>0</td>\n",
       "      <td>0</td>\n",
       "    </tr>\n",
       "    <tr>\n",
       "      <th>1</th>\n",
       "      <td>A18K1ODH1I2MVB</td>\n",
       "      <td>B007WTAJTO</td>\n",
       "      <td>0mie</td>\n",
       "      <td>[0, 0]</td>\n",
       "      <td>Purchased this for my device, it worked as adv...</td>\n",
       "      <td>5.00</td>\n",
       "      <td>MOAR SPACE!!!</td>\n",
       "      <td>1382659200</td>\n",
       "      <td>2013-10-25</td>\n",
       "      <td>409</td>\n",
       "      <td>0</td>\n",
       "      <td>0</td>\n",
       "    </tr>\n",
       "    <tr>\n",
       "      <th>2</th>\n",
       "      <td>A2FII3I2MBMUIA</td>\n",
       "      <td>B007WTAJTO</td>\n",
       "      <td>1K3</td>\n",
       "      <td>[0, 0]</td>\n",
       "      <td>it works as expected. I should have sprung for...</td>\n",
       "      <td>4.00</td>\n",
       "      <td>nothing to really say....</td>\n",
       "      <td>1356220800</td>\n",
       "      <td>2012-12-23</td>\n",
       "      <td>715</td>\n",
       "      <td>0</td>\n",
       "      <td>0</td>\n",
       "    </tr>\n",
       "    <tr>\n",
       "      <th>3</th>\n",
       "      <td>A3H99DFEG68SR</td>\n",
       "      <td>B007WTAJTO</td>\n",
       "      <td>1m2</td>\n",
       "      <td>[0, 0]</td>\n",
       "      <td>This think has worked out great.Had a diff. br...</td>\n",
       "      <td>5.00</td>\n",
       "      <td>Great buy at this price!!!  *** UPDATE</td>\n",
       "      <td>1384992000</td>\n",
       "      <td>2013-11-21</td>\n",
       "      <td>382</td>\n",
       "      <td>0</td>\n",
       "      <td>0</td>\n",
       "    </tr>\n",
       "    <tr>\n",
       "      <th>4</th>\n",
       "      <td>A375ZM4U047O79</td>\n",
       "      <td>B007WTAJTO</td>\n",
       "      <td>2&amp;amp;1/2Men</td>\n",
       "      <td>[0, 0]</td>\n",
       "      <td>Bought it with Retail Packaging, arrived legit...</td>\n",
       "      <td>5.00</td>\n",
       "      <td>best deal around</td>\n",
       "      <td>1373673600</td>\n",
       "      <td>2013-07-13</td>\n",
       "      <td>513</td>\n",
       "      <td>0</td>\n",
       "      <td>0</td>\n",
       "    </tr>\n",
       "  </tbody>\n",
       "</table>\n",
       "</div>"
      ],
      "text/plain": [
       "       reviewerID        asin  reviewerName helpful                                         reviewText  overall                                 summary  unixReviewTime  reviewTime  day_diff  \\\n",
       "0  A3SBTW3WS4IQSN  B007WTAJTO           NaN  [0, 0]                                         No issues.     4.00                              Four Stars      1406073600  2014-07-23       138   \n",
       "1  A18K1ODH1I2MVB  B007WTAJTO          0mie  [0, 0]  Purchased this for my device, it worked as adv...     5.00                           MOAR SPACE!!!      1382659200  2013-10-25       409   \n",
       "2  A2FII3I2MBMUIA  B007WTAJTO           1K3  [0, 0]  it works as expected. I should have sprung for...     4.00               nothing to really say....      1356220800  2012-12-23       715   \n",
       "3   A3H99DFEG68SR  B007WTAJTO           1m2  [0, 0]  This think has worked out great.Had a diff. br...     5.00  Great buy at this price!!!  *** UPDATE      1384992000  2013-11-21       382   \n",
       "4  A375ZM4U047O79  B007WTAJTO  2&amp;1/2Men  [0, 0]  Bought it with Retail Packaging, arrived legit...     5.00                        best deal around      1373673600  2013-07-13       513   \n",
       "\n",
       "   helpful_yes  total_vote  \n",
       "0            0           0  \n",
       "1            0           0  \n",
       "2            0           0  \n",
       "3            0           0  \n",
       "4            0           0  "
      ]
     },
     "execution_count": 4,
     "metadata": {},
     "output_type": "execute_result"
    }
   ],
   "source": [
    "df.head()"
   ]
  },
  {
   "cell_type": "markdown",
   "id": "db379a95",
   "metadata": {},
   "source": [
    "## 3.1. | Normalizing Case Folding"
   ]
  },
  {
   "cell_type": "code",
   "execution_count": 5,
   "id": "a49aa224",
   "metadata": {},
   "outputs": [
    {
     "data": {
      "text/plain": [
       "0                                              No issues.\n",
       "1       Purchased this for my device, it worked as adv...\n",
       "2       it works as expected. I should have sprung for...\n",
       "3       This think has worked out great.Had a diff. br...\n",
       "4       Bought it with Retail Packaging, arrived legit...\n",
       "                              ...                        \n",
       "4910    I bought this Sandisk 16GB Class 10 to use wit...\n",
       "4911    Used this for extending the capabilities of my...\n",
       "4912    Great card that is very fast and reliable. It ...\n",
       "4913    Good amount of space for the stuff I want to d...\n",
       "4914    I've heard bad things about this 64gb Micro SD...\n",
       "Name: reviewText, Length: 4915, dtype: object"
      ]
     },
     "execution_count": 5,
     "metadata": {},
     "output_type": "execute_result"
    }
   ],
   "source": [
    "df['reviewText']"
   ]
  },
  {
   "cell_type": "code",
   "execution_count": 6,
   "id": "a08ef4a7",
   "metadata": {},
   "outputs": [],
   "source": [
    "df['reviewText'] = df['reviewText'].str.lower()"
   ]
  },
  {
   "cell_type": "code",
   "execution_count": 7,
   "id": "4cb5bd83",
   "metadata": {},
   "outputs": [
    {
     "data": {
      "text/plain": [
       "0                                              no issues.\n",
       "1       purchased this for my device, it worked as adv...\n",
       "2       it works as expected. i should have sprung for...\n",
       "3       this think has worked out great.had a diff. br...\n",
       "4       bought it with retail packaging, arrived legit...\n",
       "                              ...                        \n",
       "4910    i bought this sandisk 16gb class 10 to use wit...\n",
       "4911    used this for extending the capabilities of my...\n",
       "4912    great card that is very fast and reliable. it ...\n",
       "4913    good amount of space for the stuff i want to d...\n",
       "4914    i've heard bad things about this 64gb micro sd...\n",
       "Name: reviewText, Length: 4915, dtype: object"
      ]
     },
     "execution_count": 7,
     "metadata": {},
     "output_type": "execute_result"
    }
   ],
   "source": [
    "df['reviewText']"
   ]
  },
  {
   "cell_type": "markdown",
   "id": "b52b5ab3",
   "metadata": {},
   "source": [
    "## 3.2 | Punctuations\n"
   ]
  },
  {
   "cell_type": "code",
   "execution_count": 8,
   "id": "c3bfbedf",
   "metadata": {},
   "outputs": [
    {
     "data": {
      "text/plain": [
       "0                                               no issues\n",
       "1       purchased this for my device it worked as adve...\n",
       "2       it works as expected i should have sprung for ...\n",
       "3       this think has worked out greathad a diff bran...\n",
       "4       bought it with retail packaging arrived legit ...\n",
       "                              ...                        \n",
       "4910    i bought this sandisk 16gb class 10 to use wit...\n",
       "4911    used this for extending the capabilities of my...\n",
       "4912    great card that is very fast and reliable it c...\n",
       "4913    good amount of space for the stuff i want to d...\n",
       "4914    ive heard bad things about this 64gb micro sd ...\n",
       "Name: reviewText, Length: 4915, dtype: object"
      ]
     },
     "execution_count": 8,
     "metadata": {},
     "output_type": "execute_result"
    }
   ],
   "source": [
    "df['reviewText'] = df['reviewText'].str.replace('[^\\w\\s]', '', regex=True)\n",
    "df['reviewText']"
   ]
  },
  {
   "cell_type": "markdown",
   "id": "d32a04f8",
   "metadata": {},
   "source": [
    "## 3.3. | Numbers\n"
   ]
  },
  {
   "cell_type": "code",
   "execution_count": 9,
   "id": "b9896996",
   "metadata": {},
   "outputs": [
    {
     "data": {
      "text/plain": [
       "0                                               no issues\n",
       "1       purchased this for my device it worked as adve...\n",
       "2       it works as expected i should have sprung for ...\n",
       "3       this think has worked out greathad a diff bran...\n",
       "4       bought it with retail packaging arrived legit ...\n",
       "                              ...                        \n",
       "4910    i bought this sandisk gb class  to use with my...\n",
       "4911    used this for extending the capabilities of my...\n",
       "4912    great card that is very fast and reliable it c...\n",
       "4913    good amount of space for the stuff i want to d...\n",
       "4914    ive heard bad things about this gb micro sd ca...\n",
       "Name: reviewText, Length: 4915, dtype: object"
      ]
     },
     "execution_count": 9,
     "metadata": {},
     "output_type": "execute_result"
    }
   ],
   "source": [
    "df['reviewText'] = df['reviewText'].str.replace('\\d', '', regex=True)\n",
    "df['reviewText']"
   ]
  },
  {
   "cell_type": "markdown",
   "id": "4919c749",
   "metadata": {},
   "source": [
    "## 3.4 | Stopwords\n"
   ]
  },
  {
   "cell_type": "code",
   "execution_count": 10,
   "id": "22a60752",
   "metadata": {},
   "outputs": [
    {
     "name": "stderr",
     "output_type": "stream",
     "text": [
      "[nltk_data] Downloading package stopwords to C:\\Users\\PADMANI\n",
      "[nltk_data]     GAYATRI\\AppData\\Roaming\\nltk_data...\n",
      "[nltk_data]   Package stopwords is already up-to-date!\n"
     ]
    },
    {
     "data": {
      "text/plain": [
       "['i',\n",
       " 'me',\n",
       " 'my',\n",
       " 'myself',\n",
       " 'we',\n",
       " 'our',\n",
       " 'ours',\n",
       " 'ourselves',\n",
       " 'you',\n",
       " \"you're\",\n",
       " \"you've\",\n",
       " \"you'll\",\n",
       " \"you'd\",\n",
       " 'your',\n",
       " 'yours',\n",
       " 'yourself',\n",
       " 'yourselves',\n",
       " 'he',\n",
       " 'him',\n",
       " 'his',\n",
       " 'himself',\n",
       " 'she',\n",
       " \"she's\",\n",
       " 'her',\n",
       " 'hers',\n",
       " 'herself',\n",
       " 'it',\n",
       " \"it's\",\n",
       " 'its',\n",
       " 'itself',\n",
       " 'they',\n",
       " 'them',\n",
       " 'their',\n",
       " 'theirs',\n",
       " 'themselves',\n",
       " 'what',\n",
       " 'which',\n",
       " 'who',\n",
       " 'whom',\n",
       " 'this',\n",
       " 'that',\n",
       " \"that'll\",\n",
       " 'these',\n",
       " 'those',\n",
       " 'am',\n",
       " 'is',\n",
       " 'are',\n",
       " 'was',\n",
       " 'were',\n",
       " 'be',\n",
       " 'been',\n",
       " 'being',\n",
       " 'have',\n",
       " 'has',\n",
       " 'had',\n",
       " 'having',\n",
       " 'do',\n",
       " 'does',\n",
       " 'did',\n",
       " 'doing',\n",
       " 'a',\n",
       " 'an',\n",
       " 'the',\n",
       " 'and',\n",
       " 'but',\n",
       " 'if',\n",
       " 'or',\n",
       " 'because',\n",
       " 'as',\n",
       " 'until',\n",
       " 'while',\n",
       " 'of',\n",
       " 'at',\n",
       " 'by',\n",
       " 'for',\n",
       " 'with',\n",
       " 'about',\n",
       " 'against',\n",
       " 'between',\n",
       " 'into',\n",
       " 'through',\n",
       " 'during',\n",
       " 'before',\n",
       " 'after',\n",
       " 'above',\n",
       " 'below',\n",
       " 'to',\n",
       " 'from',\n",
       " 'up',\n",
       " 'down',\n",
       " 'in',\n",
       " 'out',\n",
       " 'on',\n",
       " 'off',\n",
       " 'over',\n",
       " 'under',\n",
       " 'again',\n",
       " 'further',\n",
       " 'then',\n",
       " 'once',\n",
       " 'here',\n",
       " 'there',\n",
       " 'when',\n",
       " 'where',\n",
       " 'why',\n",
       " 'how',\n",
       " 'all',\n",
       " 'any',\n",
       " 'both',\n",
       " 'each',\n",
       " 'few',\n",
       " 'more',\n",
       " 'most',\n",
       " 'other',\n",
       " 'some',\n",
       " 'such',\n",
       " 'no',\n",
       " 'nor',\n",
       " 'not',\n",
       " 'only',\n",
       " 'own',\n",
       " 'same',\n",
       " 'so',\n",
       " 'than',\n",
       " 'too',\n",
       " 'very',\n",
       " 's',\n",
       " 't',\n",
       " 'can',\n",
       " 'will',\n",
       " 'just',\n",
       " 'don',\n",
       " \"don't\",\n",
       " 'should',\n",
       " \"should've\",\n",
       " 'now',\n",
       " 'd',\n",
       " 'll',\n",
       " 'm',\n",
       " 'o',\n",
       " 're',\n",
       " 've',\n",
       " 'y',\n",
       " 'ain',\n",
       " 'aren',\n",
       " \"aren't\",\n",
       " 'couldn',\n",
       " \"couldn't\",\n",
       " 'didn',\n",
       " \"didn't\",\n",
       " 'doesn',\n",
       " \"doesn't\",\n",
       " 'hadn',\n",
       " \"hadn't\",\n",
       " 'hasn',\n",
       " \"hasn't\",\n",
       " 'haven',\n",
       " \"haven't\",\n",
       " 'isn',\n",
       " \"isn't\",\n",
       " 'ma',\n",
       " 'mightn',\n",
       " \"mightn't\",\n",
       " 'mustn',\n",
       " \"mustn't\",\n",
       " 'needn',\n",
       " \"needn't\",\n",
       " 'shan',\n",
       " \"shan't\",\n",
       " 'shouldn',\n",
       " \"shouldn't\",\n",
       " 'wasn',\n",
       " \"wasn't\",\n",
       " 'weren',\n",
       " \"weren't\",\n",
       " 'won',\n",
       " \"won't\",\n",
       " 'wouldn',\n",
       " \"wouldn't\"]"
      ]
     },
     "execution_count": 10,
     "metadata": {},
     "output_type": "execute_result"
    }
   ],
   "source": [
    "nltk.download('stopwords')\n",
    "sw = stopwords.words('english')\n",
    "sw"
   ]
  },
  {
   "cell_type": "code",
   "execution_count": 11,
   "id": "0440e64c",
   "metadata": {},
   "outputs": [
    {
     "data": {
      "text/plain": [
       "0                                                  issues\n",
       "1       purchased device worked advertised never much ...\n",
       "2       works expected sprung higher capacity think ma...\n",
       "3       think worked greathad diff bran gb card went s...\n",
       "4       bought retail packaging arrived legit orange e...\n",
       "                              ...                        \n",
       "4910    bought sandisk gb class use htc inspire months...\n",
       "4911    used extending capabilities samsung galaxy not...\n",
       "4912    great card fast reliable comes optional adapte...\n",
       "4913          good amount space stuff want fits gopro say\n",
       "4914    ive heard bad things gb micro sd card crapping...\n",
       "Name: reviewText, Length: 4915, dtype: object"
      ]
     },
     "execution_count": 11,
     "metadata": {},
     "output_type": "execute_result"
    }
   ],
   "source": [
    "df['reviewText'] = df['reviewText'].apply(lambda x: \" \".join(x for x in str(x).split() if x not in sw))\n",
    "df['reviewText']"
   ]
  },
  {
   "cell_type": "markdown",
   "id": "11f41285",
   "metadata": {},
   "source": [
    "## 3.5. | Rarewords"
   ]
  },
  {
   "cell_type": "code",
   "execution_count": 12,
   "id": "3c808a50",
   "metadata": {},
   "outputs": [
    {
     "data": {
      "text/plain": [
       "card          4603\n",
       "gb            1725\n",
       "phone         1685\n",
       "works         1559\n",
       "great         1445\n",
       "              ... \n",
       "sharper          1\n",
       "cheapos          1\n",
       "gate             1\n",
       "measuring        1\n",
       "stealwould       1\n",
       "Length: 9701, dtype: int64"
      ]
     },
     "execution_count": 12,
     "metadata": {},
     "output_type": "execute_result"
    }
   ],
   "source": [
    "temp_df = pd.Series(' '.join(df['reviewText']).split()).value_counts()\n",
    "temp_df"
   ]
  },
  {
   "cell_type": "code",
   "execution_count": 13,
   "id": "b8dc9bfb",
   "metadata": {},
   "outputs": [
    {
     "data": {
      "text/plain": [
       "0                                                  issues\n",
       "1       purchased device worked advertised never much ...\n",
       "2       works expected higher capacity think made bit ...\n",
       "3       think worked gb card went south one held prett...\n",
       "4       bought retail packaging arrived legit envelope...\n",
       "                              ...                        \n",
       "4910    bought sandisk gb class use htc inspire months...\n",
       "4911    used capabilities samsung galaxy note greatly ...\n",
       "4912    great card fast reliable comes optional adapte...\n",
       "4913          good amount space stuff want fits gopro say\n",
       "4914    ive heard bad things gb micro sd card crapping...\n",
       "Name: reviewText, Length: 4915, dtype: object"
      ]
     },
     "execution_count": 13,
     "metadata": {},
     "output_type": "execute_result"
    }
   ],
   "source": [
    "drops = temp_df[temp_df <= 1]\n",
    "df['reviewText'] = df['reviewText'].apply(lambda x: \" \".join(x for x in x.split() if x not in drops))\n",
    "df['reviewText']"
   ]
  },
  {
   "cell_type": "code",
   "execution_count": 14,
   "id": "d554d352",
   "metadata": {},
   "outputs": [
    {
     "data": {
      "text/plain": [
       "card            4603\n",
       "gb              1725\n",
       "phone           1685\n",
       "works           1559\n",
       "great           1445\n",
       "                ... \n",
       "itupdate           2\n",
       "intermittant       2\n",
       "pennies            2\n",
       "suffer             2\n",
       "chkdsk             2\n",
       "Length: 4089, dtype: int64"
      ]
     },
     "execution_count": 14,
     "metadata": {},
     "output_type": "execute_result"
    }
   ],
   "source": [
    "temp_df_1 = pd.Series(' '.join(df['reviewText']).split()).value_counts()\n",
    "temp_df_1"
   ]
  },
  {
   "cell_type": "markdown",
   "id": "19b70396",
   "metadata": {},
   "source": [
    "## 3.6 | Tokenization"
   ]
  },
  {
   "cell_type": "code",
   "execution_count": 15,
   "id": "b0db0e3a",
   "metadata": {},
   "outputs": [
    {
     "name": "stderr",
     "output_type": "stream",
     "text": [
      "[nltk_data] Downloading package punkt to C:\\Users\\PADMANI\n",
      "[nltk_data]     GAYATRI\\AppData\\Roaming\\nltk_data...\n",
      "[nltk_data]   Package punkt is already up-to-date!\n",
      "[nltk_data] Downloading package punkt_tab to C:\\Users\\PADMANI\n",
      "[nltk_data]     GAYATRI\\AppData\\Roaming\\nltk_data...\n",
      "[nltk_data]   Package punkt_tab is already up-to-date!\n"
     ]
    },
    {
     "data": {
      "text/plain": [
       "0                                             [issues]\n",
       "1    [purchased, device, worked, advertised, never,...\n",
       "2    [works, expected, higher, capacity, think, mad...\n",
       "3    [think, worked, gb, card, went, south, one, he...\n",
       "4    [bought, retail, packaging, arrived, legit, en...\n",
       "Name: reviewText, dtype: object"
      ]
     },
     "execution_count": 15,
     "metadata": {},
     "output_type": "execute_result"
    }
   ],
   "source": [
    "# df[\"reviewText\"].apply(lambda x: TextBlob(x).words).head()\n",
    "\n",
    "\n",
    "nltk.download('punkt')\n",
    "nltk.download('punkt_tab')\n",
    "\n",
    "df[\"reviewText\"].apply(lambda x: word_tokenize(x)).head()"
   ]
  },
  {
   "cell_type": "markdown",
   "id": "9950cbe1",
   "metadata": {},
   "source": [
    "## 3.7 | Lemmatization"
   ]
  },
  {
   "cell_type": "code",
   "execution_count": 16,
   "id": "35af83e2",
   "metadata": {},
   "outputs": [
    {
     "name": "stderr",
     "output_type": "stream",
     "text": [
      "[nltk_data] Downloading package punkt to C:\\Users\\PADMANI\n",
      "[nltk_data]     GAYATRI\\AppData\\Roaming\\nltk_data...\n",
      "[nltk_data]   Package punkt is already up-to-date!\n",
      "[nltk_data] Downloading package wordnet to C:\\Users\\PADMANI\n",
      "[nltk_data]     GAYATRI\\AppData\\Roaming\\nltk_data...\n",
      "[nltk_data]   Unzipping corpora\\wordnet.zip.\n",
      "[nltk_data] Downloading package omw-1.4 to C:\\Users\\PADMANI\n",
      "[nltk_data]     GAYATRI\\AppData\\Roaming\\nltk_data...\n",
      "[nltk_data]   Package omw-1.4 is already up-to-date!\n"
     ]
    },
    {
     "data": {
      "text/plain": [
       "True"
      ]
     },
     "execution_count": 16,
     "metadata": {},
     "output_type": "execute_result"
    }
   ],
   "source": [
    "nltk.download('punkt')\n",
    "nltk.download('wordnet')\n",
    "nltk.download('omw-1.4')"
   ]
  },
  {
   "cell_type": "code",
   "execution_count": 17,
   "id": "cddf9dfa",
   "metadata": {},
   "outputs": [
    {
     "data": {
      "text/plain": [
       "0                                                   issue\n",
       "1       purchased device worked advertised never much ...\n",
       "2       work expected higher capacity think made bit e...\n",
       "3       think worked gb card went south one held prett...\n",
       "4       bought retail packaging arrived legit envelope...\n",
       "                              ...                        \n",
       "4910    bought sandisk gb class use htc inspire month ...\n",
       "4911    used capability samsung galaxy note greatly ex...\n",
       "4912    great card fast reliable come optional adapter...\n",
       "4913           good amount space stuff want fit gopro say\n",
       "4914    ive heard bad thing gb micro sd card crapping ...\n",
       "Name: reviewText, Length: 4915, dtype: object"
      ]
     },
     "execution_count": 17,
     "metadata": {},
     "output_type": "execute_result"
    }
   ],
   "source": [
    "df['reviewText'] = df['reviewText'].apply(lambda x: \" \".join([Word(word).lemmatize() for word in x.split()]))\n",
    "df['reviewText']"
   ]
  },
  {
   "cell_type": "markdown",
   "id": "b1944ac4",
   "metadata": {},
   "source": [
    "# 4 | Text Visualization\n"
   ]
  },
  {
   "cell_type": "markdown",
   "id": "ac62081c",
   "metadata": {},
   "source": [
    "## 4.1. | Calculation of Term Frequencies\n"
   ]
  },
  {
   "cell_type": "code",
   "execution_count": 18,
   "id": "acd1a3f9",
   "metadata": {},
   "outputs": [
    {
     "data": {
      "text/html": [
       "<div>\n",
       "<style scoped>\n",
       "    .dataframe tbody tr th:only-of-type {\n",
       "        vertical-align: middle;\n",
       "    }\n",
       "\n",
       "    .dataframe tbody tr th {\n",
       "        vertical-align: top;\n",
       "    }\n",
       "\n",
       "    .dataframe thead th {\n",
       "        text-align: right;\n",
       "    }\n",
       "</style>\n",
       "<table border=\"1\" class=\"dataframe\">\n",
       "  <thead>\n",
       "    <tr style=\"text-align: right;\">\n",
       "      <th></th>\n",
       "      <th>words</th>\n",
       "      <th>tf</th>\n",
       "    </tr>\n",
       "  </thead>\n",
       "  <tbody>\n",
       "    <tr>\n",
       "      <th>27</th>\n",
       "      <td>card</td>\n",
       "      <td>5537.00</td>\n",
       "    </tr>\n",
       "    <tr>\n",
       "      <th>14</th>\n",
       "      <td>work</td>\n",
       "      <td>2044.00</td>\n",
       "    </tr>\n",
       "    <tr>\n",
       "      <th>7</th>\n",
       "      <td>phone</td>\n",
       "      <td>1909.00</td>\n",
       "    </tr>\n",
       "    <tr>\n",
       "      <th>39</th>\n",
       "      <td>gb</td>\n",
       "      <td>1756.00</td>\n",
       "    </tr>\n",
       "    <tr>\n",
       "      <th>98</th>\n",
       "      <td>great</td>\n",
       "      <td>1445.00</td>\n",
       "    </tr>\n",
       "    <tr>\n",
       "      <th>...</th>\n",
       "      <td>...</td>\n",
       "      <td>...</td>\n",
       "    </tr>\n",
       "    <tr>\n",
       "      <th>2723</th>\n",
       "      <td>headline</td>\n",
       "      <td>2.00</td>\n",
       "    </tr>\n",
       "    <tr>\n",
       "      <th>2722</th>\n",
       "      <td>sizethe</td>\n",
       "      <td>2.00</td>\n",
       "    </tr>\n",
       "    <tr>\n",
       "      <th>2720</th>\n",
       "      <td>everybody</td>\n",
       "      <td>2.00</td>\n",
       "    </tr>\n",
       "    <tr>\n",
       "      <th>3690</th>\n",
       "      <td>chkdsk</td>\n",
       "      <td>2.00</td>\n",
       "    </tr>\n",
       "    <tr>\n",
       "      <th>1098</th>\n",
       "      <td></td>\n",
       "      <td>1.00</td>\n",
       "    </tr>\n",
       "  </tbody>\n",
       "</table>\n",
       "<p>3691 rows × 2 columns</p>\n",
       "</div>"
      ],
      "text/plain": [
       "          words      tf\n",
       "27         card 5537.00\n",
       "14         work 2044.00\n",
       "7         phone 1909.00\n",
       "39           gb 1756.00\n",
       "98        great 1445.00\n",
       "...         ...     ...\n",
       "2723   headline    2.00\n",
       "2722    sizethe    2.00\n",
       "2720  everybody    2.00\n",
       "3690     chkdsk    2.00\n",
       "1098               1.00\n",
       "\n",
       "[3691 rows x 2 columns]"
      ]
     },
     "execution_count": 18,
     "metadata": {},
     "output_type": "execute_result"
    }
   ],
   "source": [
    "tf = df[\"reviewText\"].apply(lambda x: pd.value_counts(x.split(\" \"))).sum(axis=0).reset_index()\n",
    "tf.columns = ['words', 'tf']\n",
    "tf_sorted = tf.sort_values(by='tf', ascending=False)\n",
    "tf_sorted"
   ]
  },
  {
   "cell_type": "code",
   "execution_count": 19,
   "id": "3502ed1b",
   "metadata": {},
   "outputs": [
    {
     "data": {
      "text/plain": [
       "(3691, 2)"
      ]
     },
     "execution_count": 19,
     "metadata": {},
     "output_type": "execute_result"
    }
   ],
   "source": [
    "tf.shape"
   ]
  },
  {
   "cell_type": "code",
   "execution_count": 20,
   "id": "545e24a8",
   "metadata": {},
   "outputs": [
    {
     "data": {
      "text/plain": [
       "3691"
      ]
     },
     "execution_count": 20,
     "metadata": {},
     "output_type": "execute_result"
    }
   ],
   "source": [
    "tf[\"words\"].nunique()"
   ]
  },
  {
   "cell_type": "code",
   "execution_count": 21,
   "id": "3730bc86",
   "metadata": {},
   "outputs": [
    {
     "data": {
      "text/plain": [
       "count   3691.00\n",
       "mean      32.28\n",
       "std      140.35\n",
       "min        1.00\n",
       "5%         2.00\n",
       "10%        2.00\n",
       "25%        2.00\n",
       "50%        5.00\n",
       "75%       16.00\n",
       "80%       23.00\n",
       "90%       58.00\n",
       "95%      123.00\n",
       "99%      514.10\n",
       "max     5537.00\n",
       "Name: tf, dtype: float64"
      ]
     },
     "execution_count": 21,
     "metadata": {},
     "output_type": "execute_result"
    }
   ],
   "source": [
    "tf[\"tf\"].describe([0.05, 0.10, 0.25, 0.50, 0.75, 0.80, 0.90, 0.95, 0.99]).T"
   ]
  },
  {
   "cell_type": "markdown",
   "id": "15554113",
   "metadata": {},
   "source": [
    "## 4.2. | Barplot"
   ]
  },
  {
   "cell_type": "code",
   "execution_count": 22,
   "id": "f12886c7",
   "metadata": {},
   "outputs": [
    {
     "data": {
      "image/png": "[encoded data removed]",
      "text/plain": [
       "<Figure size 640x480 with 1 Axes>"
      ]
     },
     "metadata": {},
     "output_type": "display_data"
    }
   ],
   "source": [
    "tf[tf[\"tf\"] > 500].plot.bar(x=\"words\", y=\"tf\")\n",
    "plt.show(block=True)"
   ]
  },
  {
   "cell_type": "markdown",
   "id": "79385ed3",
   "metadata": {},
   "source": [
    "## 4.3. | Word Cloud\n"
   ]
  },
  {
   "cell_type": "code",
   "execution_count": 23,
   "id": "3178ec75",
   "metadata": {},
   "outputs": [
    {
     "data": {
      "image/png": "[encoded data removed]",
      "text/plain": [
       "<Figure size 640x480 with 1 Axes>"
      ]
     },
     "metadata": {},
     "output_type": "display_data"
    }
   ],
   "source": [
    "text = \" \".join(i for i in df.reviewText)\n",
    "\n",
    "wordcloud = WordCloud().generate(text)\n",
    "plt.imshow(wordcloud, interpolation=\"bilinear\")\n",
    "plt.axis(\"off\")\n",
    "plt.show()"
   ]
  },
  {
   "cell_type": "code",
   "execution_count": 24,
   "id": "ef5880b3",
   "metadata": {},
   "outputs": [
    {
     "data": {
      "image/png": "[encoded data removed]",
      "text/plain": [
       "<Figure size 640x480 with 1 Axes>"
      ]
     },
     "metadata": {},
     "output_type": "display_data"
    },
    {
     "data": {
      "text/plain": [
       "<wordcloud.wordcloud.WordCloud at 0x233308a07f0>"
      ]
     },
     "execution_count": 24,
     "metadata": {},
     "output_type": "execute_result"
    }
   ],
   "source": [
    "wordcloud = WordCloud(max_font_size=50,\n",
    "                      max_words=100,\n",
    "                      background_color=\"white\").generate(text)\n",
    "plt.figure()\n",
    "plt.imshow(wordcloud, interpolation=\"bilinear\")\n",
    "plt.axis(\"off\")\n",
    "plt.show()\n",
    "\n",
    "wordcloud.to_file(\"wordcloud.png\")"
   ]
  },
  {
   "cell_type": "markdown",
   "id": "b1a9b018",
   "metadata": {},
   "source": [
    "## 4.4. | Word Cloud by Templates\n"
   ]
  },
  {
   "cell_type": "code",
   "execution_count": 25,
   "id": "d14dbc87",
   "metadata": {},
   "outputs": [],
   "source": [
    "# tr_mask = np.array(Image.open(\"tr.png\"))\n",
    "\n",
    "# wc = WordCloud(background_color=\"white\",\n",
    "#                max_words=1000,\n",
    "#                mask=tr_mask,\n",
    "#                contour_width=3,\n",
    "#                contour_color=\"firebrick\")\n",
    "\n",
    "# wc.generate(text)\n",
    "# plt.figure(figsize=[10, 10])\n",
    "# plt.imshow(wc, interpolation=\"bilinear\")\n",
    "# plt.axis(\"off\")\n",
    "# plt.show()"
   ]
  },
  {
   "cell_type": "markdown",
   "id": "d449c11d",
   "metadata": {},
   "source": [
    "## 5 | Sentiment Analysis"
   ]
  },
  {
   "cell_type": "code",
   "execution_count": 26,
   "id": "f5cfedb6",
   "metadata": {},
   "outputs": [
    {
     "name": "stderr",
     "output_type": "stream",
     "text": [
      "[nltk_data] Downloading package vader_lexicon to C:\\Users\\PADMANI\n",
      "[nltk_data]     GAYATRI\\AppData\\Roaming\\nltk_data...\n",
      "[nltk_data]   Package vader_lexicon is already up-to-date!\n"
     ]
    },
    {
     "data": {
      "text/plain": [
       "True"
      ]
     },
     "execution_count": 26,
     "metadata": {},
     "output_type": "execute_result"
    }
   ],
   "source": [
    "nltk.download('vader_lexicon')"
   ]
  },
  {
   "cell_type": "code",
   "execution_count": 27,
   "id": "88bcd351",
   "metadata": {},
   "outputs": [
    {
     "data": {
      "text/plain": [
       "0                                                issue\n",
       "1    purchased device worked advertised never much ...\n",
       "2    work expected higher capacity think made bit e...\n",
       "3    think worked gb card went south one held prett...\n",
       "4    bought retail packaging arrived legit envelope...\n",
       "Name: reviewText, dtype: object"
      ]
     },
     "execution_count": 27,
     "metadata": {},
     "output_type": "execute_result"
    }
   ],
   "source": [
    "df[\"reviewText\"].head()"
   ]
  },
  {
   "cell_type": "code",
   "execution_count": 28,
   "id": "2b80996e",
   "metadata": {},
   "outputs": [],
   "source": [
    "sia = SentimentIntensityAnalyzer()"
   ]
  },
  {
   "cell_type": "code",
   "execution_count": 29,
   "id": "91e70044",
   "metadata": {},
   "outputs": [
    {
     "data": {
      "text/plain": [
       "{'neg': 0.0, 'neu': 0.423, 'pos': 0.577, 'compound': 0.6249}"
      ]
     },
     "execution_count": 29,
     "metadata": {},
     "output_type": "execute_result"
    }
   ],
   "source": [
    "sia.polarity_scores(\"The toy was awesome\")"
   ]
  },
  {
   "cell_type": "code",
   "execution_count": 30,
   "id": "8be50b6e",
   "metadata": {},
   "outputs": [
    {
     "data": {
      "text/plain": [
       "{'neg': 0.207, 'neu': 0.666, 'pos': 0.127, 'compound': -0.298}"
      ]
     },
     "execution_count": 30,
     "metadata": {},
     "output_type": "execute_result"
    }
   ],
   "source": [
    "sia.polarity_scores(\"I liked this video but it is not good as the other one\")"
   ]
  },
  {
   "cell_type": "code",
   "execution_count": 31,
   "id": "2427b4e0",
   "metadata": {},
   "outputs": [
    {
     "data": {
      "text/plain": [
       "0    {'neg': 0.0, 'neu': 1.0, 'pos': 0.0, 'compound...\n",
       "1    {'neg': 0.0, 'neu': 1.0, 'pos': 0.0, 'compound...\n",
       "2    {'neg': 0.0, 'neu': 0.803, 'pos': 0.197, 'comp...\n",
       "3    {'neg': 0.0, 'neu': 0.798, 'pos': 0.202, 'comp...\n",
       "4    {'neg': 0.0, 'neu': 0.747, 'pos': 0.253, 'comp...\n",
       "5    {'neg': 0.0, 'neu': 1.0, 'pos': 0.0, 'compound...\n",
       "6    {'neg': 0.108, 'neu': 0.598, 'pos': 0.295, 'co...\n",
       "7    {'neg': 0.077, 'neu': 0.65, 'pos': 0.272, 'com...\n",
       "8    {'neg': 0.0, 'neu': 1.0, 'pos': 0.0, 'compound...\n",
       "9    {'neg': 0.0, 'neu': 0.457, 'pos': 0.543, 'comp...\n",
       "Name: reviewText, dtype: object"
      ]
     },
     "execution_count": 31,
     "metadata": {},
     "output_type": "execute_result"
    }
   ],
   "source": [
    "df[\"reviewText\"][0:10].apply(lambda x: sia.polarity_scores(x))"
   ]
  },
  {
   "cell_type": "code",
   "execution_count": 32,
   "id": "5b86ff16",
   "metadata": {},
   "outputs": [
    {
     "data": {
      "text/plain": [
       "0   0.00\n",
       "1   0.00\n",
       "2   0.40\n",
       "3   0.65\n",
       "4   0.86\n",
       "5   0.00\n",
       "6   0.87\n",
       "7   0.82\n",
       "8   0.00\n",
       "9   0.92\n",
       "Name: reviewText, dtype: float64"
      ]
     },
     "execution_count": 32,
     "metadata": {},
     "output_type": "execute_result"
    }
   ],
   "source": [
    "df[\"reviewText\"][0:10].apply(lambda x: sia.polarity_scores(x)[\"compound\"])"
   ]
  },
  {
   "cell_type": "code",
   "execution_count": 33,
   "id": "9cfd12d2",
   "metadata": {},
   "outputs": [
    {
     "data": {
      "text/html": [
       "<div>\n",
       "<style scoped>\n",
       "    .dataframe tbody tr th:only-of-type {\n",
       "        vertical-align: middle;\n",
       "    }\n",
       "\n",
       "    .dataframe tbody tr th {\n",
       "        vertical-align: top;\n",
       "    }\n",
       "\n",
       "    .dataframe thead th {\n",
       "        text-align: right;\n",
       "    }\n",
       "</style>\n",
       "<table border=\"1\" class=\"dataframe\">\n",
       "  <thead>\n",
       "    <tr style=\"text-align: right;\">\n",
       "      <th></th>\n",
       "      <th>reviewerID</th>\n",
       "      <th>asin</th>\n",
       "      <th>reviewerName</th>\n",
       "      <th>helpful</th>\n",
       "      <th>reviewText</th>\n",
       "      <th>overall</th>\n",
       "      <th>summary</th>\n",
       "      <th>unixReviewTime</th>\n",
       "      <th>reviewTime</th>\n",
       "      <th>day_diff</th>\n",
       "      <th>helpful_yes</th>\n",
       "      <th>total_vote</th>\n",
       "      <th>polarity_score</th>\n",
       "    </tr>\n",
       "  </thead>\n",
       "  <tbody>\n",
       "    <tr>\n",
       "      <th>0</th>\n",
       "      <td>A3SBTW3WS4IQSN</td>\n",
       "      <td>B007WTAJTO</td>\n",
       "      <td>NaN</td>\n",
       "      <td>[0, 0]</td>\n",
       "      <td>issue</td>\n",
       "      <td>4.00</td>\n",
       "      <td>Four Stars</td>\n",
       "      <td>1406073600</td>\n",
       "      <td>2014-07-23</td>\n",
       "      <td>138</td>\n",
       "      <td>0</td>\n",
       "      <td>0</td>\n",
       "      <td>0.00</td>\n",
       "    </tr>\n",
       "    <tr>\n",
       "      <th>1</th>\n",
       "      <td>A18K1ODH1I2MVB</td>\n",
       "      <td>B007WTAJTO</td>\n",
       "      <td>0mie</td>\n",
       "      <td>[0, 0]</td>\n",
       "      <td>purchased device worked advertised never much ...</td>\n",
       "      <td>5.00</td>\n",
       "      <td>MOAR SPACE!!!</td>\n",
       "      <td>1382659200</td>\n",
       "      <td>2013-10-25</td>\n",
       "      <td>409</td>\n",
       "      <td>0</td>\n",
       "      <td>0</td>\n",
       "      <td>0.00</td>\n",
       "    </tr>\n",
       "    <tr>\n",
       "      <th>2</th>\n",
       "      <td>A2FII3I2MBMUIA</td>\n",
       "      <td>B007WTAJTO</td>\n",
       "      <td>1K3</td>\n",
       "      <td>[0, 0]</td>\n",
       "      <td>work expected higher capacity think made bit e...</td>\n",
       "      <td>4.00</td>\n",
       "      <td>nothing to really say....</td>\n",
       "      <td>1356220800</td>\n",
       "      <td>2012-12-23</td>\n",
       "      <td>715</td>\n",
       "      <td>0</td>\n",
       "      <td>0</td>\n",
       "      <td>0.40</td>\n",
       "    </tr>\n",
       "    <tr>\n",
       "      <th>3</th>\n",
       "      <td>A3H99DFEG68SR</td>\n",
       "      <td>B007WTAJTO</td>\n",
       "      <td>1m2</td>\n",
       "      <td>[0, 0]</td>\n",
       "      <td>think worked gb card went south one held prett...</td>\n",
       "      <td>5.00</td>\n",
       "      <td>Great buy at this price!!!  *** UPDATE</td>\n",
       "      <td>1384992000</td>\n",
       "      <td>2013-11-21</td>\n",
       "      <td>382</td>\n",
       "      <td>0</td>\n",
       "      <td>0</td>\n",
       "      <td>0.65</td>\n",
       "    </tr>\n",
       "    <tr>\n",
       "      <th>4</th>\n",
       "      <td>A375ZM4U047O79</td>\n",
       "      <td>B007WTAJTO</td>\n",
       "      <td>2&amp;amp;1/2Men</td>\n",
       "      <td>[0, 0]</td>\n",
       "      <td>bought retail packaging arrived legit envelope...</td>\n",
       "      <td>5.00</td>\n",
       "      <td>best deal around</td>\n",
       "      <td>1373673600</td>\n",
       "      <td>2013-07-13</td>\n",
       "      <td>513</td>\n",
       "      <td>0</td>\n",
       "      <td>0</td>\n",
       "      <td>0.86</td>\n",
       "    </tr>\n",
       "    <tr>\n",
       "      <th>5</th>\n",
       "      <td>A2IDCSC6NVONIZ</td>\n",
       "      <td>B007WTAJTO</td>\n",
       "      <td>2Cents!</td>\n",
       "      <td>[0, 0]</td>\n",
       "      <td>mini storage doesnt anything else supposed pur...</td>\n",
       "      <td>5.00</td>\n",
       "      <td>Not a lot to really be said</td>\n",
       "      <td>1367193600</td>\n",
       "      <td>2013-04-29</td>\n",
       "      <td>588</td>\n",
       "      <td>0</td>\n",
       "      <td>0</td>\n",
       "      <td>0.00</td>\n",
       "    </tr>\n",
       "    <tr>\n",
       "      <th>6</th>\n",
       "      <td>A26YHXZD5UFPVQ</td>\n",
       "      <td>B007WTAJTO</td>\n",
       "      <td>2K1Toaster</td>\n",
       "      <td>[0, 0]</td>\n",
       "      <td>phone never skip beat file transfer speedy cor...</td>\n",
       "      <td>5.00</td>\n",
       "      <td>Works well</td>\n",
       "      <td>1382140800</td>\n",
       "      <td>2013-10-19</td>\n",
       "      <td>415</td>\n",
       "      <td>0</td>\n",
       "      <td>0</td>\n",
       "      <td>0.87</td>\n",
       "    </tr>\n",
       "    <tr>\n",
       "      <th>7</th>\n",
       "      <td>A3CW0ZLUO5X2B1</td>\n",
       "      <td>B007WTAJTO</td>\n",
       "      <td>35-year Technology Consumer \"8-tracks to 802.11\"</td>\n",
       "      <td>[0, 0]</td>\n",
       "      <td>hard believe affordable digital become gb devi...</td>\n",
       "      <td>5.00</td>\n",
       "      <td>32 GB for less than two sawbucks...what's not ...</td>\n",
       "      <td>1404950400</td>\n",
       "      <td>2014-10-07</td>\n",
       "      <td>62</td>\n",
       "      <td>0</td>\n",
       "      <td>0</td>\n",
       "      <td>0.82</td>\n",
       "    </tr>\n",
       "    <tr>\n",
       "      <th>8</th>\n",
       "      <td>A2CYJO155QP33S</td>\n",
       "      <td>B007WTAJTO</td>\n",
       "      <td>4evryoung</td>\n",
       "      <td>[1, 1]</td>\n",
       "      <td>work htc rezound running short space gb sandis...</td>\n",
       "      <td>5.00</td>\n",
       "      <td>Loads of room</td>\n",
       "      <td>1395619200</td>\n",
       "      <td>2014-03-24</td>\n",
       "      <td>259</td>\n",
       "      <td>1</td>\n",
       "      <td>1</td>\n",
       "      <td>0.00</td>\n",
       "    </tr>\n",
       "    <tr>\n",
       "      <th>9</th>\n",
       "      <td>A2S7XG3ZC4VGOQ</td>\n",
       "      <td>B007WTAJTO</td>\n",
       "      <td>53rdcard</td>\n",
       "      <td>[0, 0]</td>\n",
       "      <td>galaxy super fast card totally happy happy sti...</td>\n",
       "      <td>5.00</td>\n",
       "      <td>works great</td>\n",
       "      <td>1381449600</td>\n",
       "      <td>2013-11-10</td>\n",
       "      <td>393</td>\n",
       "      <td>0</td>\n",
       "      <td>0</td>\n",
       "      <td>0.92</td>\n",
       "    </tr>\n",
       "    <tr>\n",
       "      <th>10</th>\n",
       "      <td>A1RTQROTWR5NCB</td>\n",
       "      <td>B007WTAJTO</td>\n",
       "      <td>808TREX50</td>\n",
       "      <td>[0, 0]</td>\n",
       "      <td>like sd card take music video downloads person...</td>\n",
       "      <td>5.00</td>\n",
       "      <td>32GB MicroSD Card.</td>\n",
       "      <td>1368230400</td>\n",
       "      <td>2013-11-05</td>\n",
       "      <td>398</td>\n",
       "      <td>0</td>\n",
       "      <td>0</td>\n",
       "      <td>0.94</td>\n",
       "    </tr>\n",
       "    <tr>\n",
       "      <th>11</th>\n",
       "      <td>A2Q3ICGWZLY3JJ</td>\n",
       "      <td>B007WTAJTO</td>\n",
       "      <td>98020</td>\n",
       "      <td>[0, 0]</td>\n",
       "      <td>work file writes bit slower expected usb read ...</td>\n",
       "      <td>3.00</td>\n",
       "      <td>It works, but not as fast as expected</td>\n",
       "      <td>1384905600</td>\n",
       "      <td>2013-11-20</td>\n",
       "      <td>383</td>\n",
       "      <td>0</td>\n",
       "      <td>0</td>\n",
       "      <td>0.00</td>\n",
       "    </tr>\n",
       "    <tr>\n",
       "      <th>12</th>\n",
       "      <td>AN2VFTXYW1SZU</td>\n",
       "      <td>B007WTAJTO</td>\n",
       "      <td>9z4cda</td>\n",
       "      <td>[0, 0]</td>\n",
       "      <td>name speaks go sandisk go</td>\n",
       "      <td>5.00</td>\n",
       "      <td>A RENOUND NAME BRAND</td>\n",
       "      <td>1404432000</td>\n",
       "      <td>2014-04-07</td>\n",
       "      <td>245</td>\n",
       "      <td>0</td>\n",
       "      <td>0</td>\n",
       "      <td>0.00</td>\n",
       "    </tr>\n",
       "    <tr>\n",
       "      <th>13</th>\n",
       "      <td>AVHN134ADVP4R</td>\n",
       "      <td>B007WTAJTO</td>\n",
       "      <td>A4Q96 \"Gadget Lover\"</td>\n",
       "      <td>[0, 0]</td>\n",
       "      <td>solid sdhc card fast reading writing fast reco...</td>\n",
       "      <td>5.00</td>\n",
       "      <td>Great SDHC card</td>\n",
       "      <td>1384992000</td>\n",
       "      <td>2013-11-21</td>\n",
       "      <td>382</td>\n",
       "      <td>0</td>\n",
       "      <td>0</td>\n",
       "      <td>0.82</td>\n",
       "    </tr>\n",
       "    <tr>\n",
       "      <th>14</th>\n",
       "      <td>A3EA7KGYC8LB0</td>\n",
       "      <td>B007WTAJTO</td>\n",
       "      <td>Aaron \"Aaron\"</td>\n",
       "      <td>[0, 0]</td>\n",
       "      <td>heard card write speed insufficient however us...</td>\n",
       "      <td>5.00</td>\n",
       "      <td>Use it for my GoPro Hero 3+ Black</td>\n",
       "      <td>1392595200</td>\n",
       "      <td>2014-02-17</td>\n",
       "      <td>294</td>\n",
       "      <td>0</td>\n",
       "      <td>0</td>\n",
       "      <td>0.31</td>\n",
       "    </tr>\n",
       "    <tr>\n",
       "      <th>15</th>\n",
       "      <td>A29RI184HRX66H</td>\n",
       "      <td>B007WTAJTO</td>\n",
       "      <td>Aaron \"Aaron\"</td>\n",
       "      <td>[0, 0]</td>\n",
       "      <td>bought use go pro hero black edition requires ...</td>\n",
       "      <td>5.00</td>\n",
       "      <td>Awesome price, great brand name</td>\n",
       "      <td>1357257600</td>\n",
       "      <td>2013-04-01</td>\n",
       "      <td>616</td>\n",
       "      <td>0</td>\n",
       "      <td>0</td>\n",
       "      <td>0.72</td>\n",
       "    </tr>\n",
       "    <tr>\n",
       "      <th>16</th>\n",
       "      <td>A2G9ZHVA6IOGBY</td>\n",
       "      <td>B007WTAJTO</td>\n",
       "      <td>Aaron Alvarez</td>\n",
       "      <td>[0, 0]</td>\n",
       "      <td>got gb one filled kept getting insufficient di...</td>\n",
       "      <td>5.00</td>\n",
       "      <td>great price. fast</td>\n",
       "      <td>1393718400</td>\n",
       "      <td>2014-02-03</td>\n",
       "      <td>308</td>\n",
       "      <td>0</td>\n",
       "      <td>0</td>\n",
       "      <td>0.85</td>\n",
       "    </tr>\n",
       "    <tr>\n",
       "      <th>17</th>\n",
       "      <td>A1OATGH4DF0RF0</td>\n",
       "      <td>B007WTAJTO</td>\n",
       "      <td>Aaron F. Virginie</td>\n",
       "      <td>[0, 1]</td>\n",
       "      <td>class speed rating seamless full hd sandisk ul...</td>\n",
       "      <td>5.00</td>\n",
       "      <td>Get Fast Load Times</td>\n",
       "      <td>1372896000</td>\n",
       "      <td>2013-04-07</td>\n",
       "      <td>610</td>\n",
       "      <td>0</td>\n",
       "      <td>1</td>\n",
       "      <td>0.90</td>\n",
       "    </tr>\n",
       "    <tr>\n",
       "      <th>18</th>\n",
       "      <td>A1V6CQACZ9IOLC</td>\n",
       "      <td>B007WTAJTO</td>\n",
       "      <td>Aaron Graves</td>\n",
       "      <td>[0, 0]</td>\n",
       "      <td>read write speed better samsung sd card previo...</td>\n",
       "      <td>5.00</td>\n",
       "      <td>Very good little Micro SD card</td>\n",
       "      <td>1398988800</td>\n",
       "      <td>2014-02-05</td>\n",
       "      <td>306</td>\n",
       "      <td>0</td>\n",
       "      <td>0</td>\n",
       "      <td>0.85</td>\n",
       "    </tr>\n",
       "    <tr>\n",
       "      <th>19</th>\n",
       "      <td>A2ELBSIZ26GKM2</td>\n",
       "      <td>B007WTAJTO</td>\n",
       "      <td>Aaron</td>\n",
       "      <td>[0, 0]</td>\n",
       "      <td>work video stuttering like gb blah blah blah b...</td>\n",
       "      <td>5.00</td>\n",
       "      <td>works</td>\n",
       "      <td>1389052800</td>\n",
       "      <td>2014-07-01</td>\n",
       "      <td>160</td>\n",
       "      <td>0</td>\n",
       "      <td>0</td>\n",
       "      <td>-0.34</td>\n",
       "    </tr>\n",
       "  </tbody>\n",
       "</table>\n",
       "</div>"
      ],
      "text/plain": [
       "        reviewerID        asin                                      reviewerName helpful                                         reviewText  overall  \\\n",
       "0   A3SBTW3WS4IQSN  B007WTAJTO                                               NaN  [0, 0]                                              issue     4.00   \n",
       "1   A18K1ODH1I2MVB  B007WTAJTO                                              0mie  [0, 0]  purchased device worked advertised never much ...     5.00   \n",
       "2   A2FII3I2MBMUIA  B007WTAJTO                                               1K3  [0, 0]  work expected higher capacity think made bit e...     4.00   \n",
       "3    A3H99DFEG68SR  B007WTAJTO                                               1m2  [0, 0]  think worked gb card went south one held prett...     5.00   \n",
       "4   A375ZM4U047O79  B007WTAJTO                                      2&amp;1/2Men  [0, 0]  bought retail packaging arrived legit envelope...     5.00   \n",
       "5   A2IDCSC6NVONIZ  B007WTAJTO                                           2Cents!  [0, 0]  mini storage doesnt anything else supposed pur...     5.00   \n",
       "6   A26YHXZD5UFPVQ  B007WTAJTO                                        2K1Toaster  [0, 0]  phone never skip beat file transfer speedy cor...     5.00   \n",
       "7   A3CW0ZLUO5X2B1  B007WTAJTO  35-year Technology Consumer \"8-tracks to 802.11\"  [0, 0]  hard believe affordable digital become gb devi...     5.00   \n",
       "8   A2CYJO155QP33S  B007WTAJTO                                         4evryoung  [1, 1]  work htc rezound running short space gb sandis...     5.00   \n",
       "9   A2S7XG3ZC4VGOQ  B007WTAJTO                                          53rdcard  [0, 0]  galaxy super fast card totally happy happy sti...     5.00   \n",
       "10  A1RTQROTWR5NCB  B007WTAJTO                                         808TREX50  [0, 0]  like sd card take music video downloads person...     5.00   \n",
       "11  A2Q3ICGWZLY3JJ  B007WTAJTO                                             98020  [0, 0]  work file writes bit slower expected usb read ...     3.00   \n",
       "12   AN2VFTXYW1SZU  B007WTAJTO                                            9z4cda  [0, 0]                          name speaks go sandisk go     5.00   \n",
       "13   AVHN134ADVP4R  B007WTAJTO                              A4Q96 \"Gadget Lover\"  [0, 0]  solid sdhc card fast reading writing fast reco...     5.00   \n",
       "14   A3EA7KGYC8LB0  B007WTAJTO                                     Aaron \"Aaron\"  [0, 0]  heard card write speed insufficient however us...     5.00   \n",
       "15  A29RI184HRX66H  B007WTAJTO                                     Aaron \"Aaron\"  [0, 0]  bought use go pro hero black edition requires ...     5.00   \n",
       "16  A2G9ZHVA6IOGBY  B007WTAJTO                                     Aaron Alvarez  [0, 0]  got gb one filled kept getting insufficient di...     5.00   \n",
       "17  A1OATGH4DF0RF0  B007WTAJTO                                 Aaron F. Virginie  [0, 1]  class speed rating seamless full hd sandisk ul...     5.00   \n",
       "18  A1V6CQACZ9IOLC  B007WTAJTO                                      Aaron Graves  [0, 0]  read write speed better samsung sd card previo...     5.00   \n",
       "19  A2ELBSIZ26GKM2  B007WTAJTO                                             Aaron  [0, 0]  work video stuttering like gb blah blah blah b...     5.00   \n",
       "\n",
       "                                              summary  unixReviewTime  reviewTime  day_diff  helpful_yes  total_vote  polarity_score  \n",
       "0                                          Four Stars      1406073600  2014-07-23       138            0           0            0.00  \n",
       "1                                       MOAR SPACE!!!      1382659200  2013-10-25       409            0           0            0.00  \n",
       "2                           nothing to really say....      1356220800  2012-12-23       715            0           0            0.40  \n",
       "3              Great buy at this price!!!  *** UPDATE      1384992000  2013-11-21       382            0           0            0.65  \n",
       "4                                    best deal around      1373673600  2013-07-13       513            0           0            0.86  \n",
       "5                         Not a lot to really be said      1367193600  2013-04-29       588            0           0            0.00  \n",
       "6                                          Works well      1382140800  2013-10-19       415            0           0            0.87  \n",
       "7   32 GB for less than two sawbucks...what's not ...      1404950400  2014-10-07        62            0           0            0.82  \n",
       "8                                       Loads of room      1395619200  2014-03-24       259            1           1            0.00  \n",
       "9                                         works great      1381449600  2013-11-10       393            0           0            0.92  \n",
       "10                                 32GB MicroSD Card.      1368230400  2013-11-05       398            0           0            0.94  \n",
       "11              It works, but not as fast as expected      1384905600  2013-11-20       383            0           0            0.00  \n",
       "12                               A RENOUND NAME BRAND      1404432000  2014-04-07       245            0           0            0.00  \n",
       "13                                    Great SDHC card      1384992000  2013-11-21       382            0           0            0.82  \n",
       "14                  Use it for my GoPro Hero 3+ Black      1392595200  2014-02-17       294            0           0            0.31  \n",
       "15                    Awesome price, great brand name      1357257600  2013-04-01       616            0           0            0.72  \n",
       "16                                  great price. fast      1393718400  2014-02-03       308            0           0            0.85  \n",
       "17                                Get Fast Load Times      1372896000  2013-04-07       610            0           1            0.90  \n",
       "18                     Very good little Micro SD card      1398988800  2014-02-05       306            0           0            0.85  \n",
       "19                                              works      1389052800  2014-07-01       160            0           0           -0.34  "
      ]
     },
     "execution_count": 33,
     "metadata": {},
     "output_type": "execute_result"
    }
   ],
   "source": [
    "df[\"polarity_score\"] = df[\"reviewText\"].apply(lambda x: sia.polarity_scores(x)[\"compound\"])\n",
    "df.head(20)"
   ]
  },
  {
   "cell_type": "markdown",
   "id": "51b3dc0c",
   "metadata": {},
   "source": [
    "## 6 | Feature Engineering"
   ]
  },
  {
   "cell_type": "code",
   "execution_count": 34,
   "id": "0d011b22",
   "metadata": {},
   "outputs": [
    {
     "data": {
      "text/plain": [
       "0    neg\n",
       "1    neg\n",
       "2    pos\n",
       "3    pos\n",
       "4    pos\n",
       "5    neg\n",
       "6    pos\n",
       "7    pos\n",
       "8    neg\n",
       "9    pos\n",
       "Name: reviewText, dtype: object"
      ]
     },
     "execution_count": 34,
     "metadata": {},
     "output_type": "execute_result"
    }
   ],
   "source": [
    "df[\"reviewText\"][0:10].apply(lambda x: \"pos\" if sia.polarity_scores(x)[\"compound\"] > 0 else \"neg\")"
   ]
  },
  {
   "cell_type": "code",
   "execution_count": 35,
   "id": "dc21c099",
   "metadata": {},
   "outputs": [
    {
     "data": {
      "text/html": [
       "<div>\n",
       "<style scoped>\n",
       "    .dataframe tbody tr th:only-of-type {\n",
       "        vertical-align: middle;\n",
       "    }\n",
       "\n",
       "    .dataframe tbody tr th {\n",
       "        vertical-align: top;\n",
       "    }\n",
       "\n",
       "    .dataframe thead th {\n",
       "        text-align: right;\n",
       "    }\n",
       "</style>\n",
       "<table border=\"1\" class=\"dataframe\">\n",
       "  <thead>\n",
       "    <tr style=\"text-align: right;\">\n",
       "      <th></th>\n",
       "      <th>reviewerID</th>\n",
       "      <th>asin</th>\n",
       "      <th>reviewerName</th>\n",
       "      <th>helpful</th>\n",
       "      <th>reviewText</th>\n",
       "      <th>overall</th>\n",
       "      <th>summary</th>\n",
       "      <th>unixReviewTime</th>\n",
       "      <th>reviewTime</th>\n",
       "      <th>day_diff</th>\n",
       "      <th>helpful_yes</th>\n",
       "      <th>total_vote</th>\n",
       "      <th>polarity_score</th>\n",
       "      <th>sentiment_label</th>\n",
       "    </tr>\n",
       "  </thead>\n",
       "  <tbody>\n",
       "    <tr>\n",
       "      <th>0</th>\n",
       "      <td>A3SBTW3WS4IQSN</td>\n",
       "      <td>B007WTAJTO</td>\n",
       "      <td>NaN</td>\n",
       "      <td>[0, 0]</td>\n",
       "      <td>issue</td>\n",
       "      <td>4.00</td>\n",
       "      <td>Four Stars</td>\n",
       "      <td>1406073600</td>\n",
       "      <td>2014-07-23</td>\n",
       "      <td>138</td>\n",
       "      <td>0</td>\n",
       "      <td>0</td>\n",
       "      <td>0.00</td>\n",
       "      <td>neg</td>\n",
       "    </tr>\n",
       "    <tr>\n",
       "      <th>1</th>\n",
       "      <td>A18K1ODH1I2MVB</td>\n",
       "      <td>B007WTAJTO</td>\n",
       "      <td>0mie</td>\n",
       "      <td>[0, 0]</td>\n",
       "      <td>purchased device worked advertised never much ...</td>\n",
       "      <td>5.00</td>\n",
       "      <td>MOAR SPACE!!!</td>\n",
       "      <td>1382659200</td>\n",
       "      <td>2013-10-25</td>\n",
       "      <td>409</td>\n",
       "      <td>0</td>\n",
       "      <td>0</td>\n",
       "      <td>0.00</td>\n",
       "      <td>neg</td>\n",
       "    </tr>\n",
       "    <tr>\n",
       "      <th>2</th>\n",
       "      <td>A2FII3I2MBMUIA</td>\n",
       "      <td>B007WTAJTO</td>\n",
       "      <td>1K3</td>\n",
       "      <td>[0, 0]</td>\n",
       "      <td>work expected higher capacity think made bit e...</td>\n",
       "      <td>4.00</td>\n",
       "      <td>nothing to really say....</td>\n",
       "      <td>1356220800</td>\n",
       "      <td>2012-12-23</td>\n",
       "      <td>715</td>\n",
       "      <td>0</td>\n",
       "      <td>0</td>\n",
       "      <td>0.40</td>\n",
       "      <td>pos</td>\n",
       "    </tr>\n",
       "    <tr>\n",
       "      <th>3</th>\n",
       "      <td>A3H99DFEG68SR</td>\n",
       "      <td>B007WTAJTO</td>\n",
       "      <td>1m2</td>\n",
       "      <td>[0, 0]</td>\n",
       "      <td>think worked gb card went south one held prett...</td>\n",
       "      <td>5.00</td>\n",
       "      <td>Great buy at this price!!!  *** UPDATE</td>\n",
       "      <td>1384992000</td>\n",
       "      <td>2013-11-21</td>\n",
       "      <td>382</td>\n",
       "      <td>0</td>\n",
       "      <td>0</td>\n",
       "      <td>0.65</td>\n",
       "      <td>pos</td>\n",
       "    </tr>\n",
       "    <tr>\n",
       "      <th>4</th>\n",
       "      <td>A375ZM4U047O79</td>\n",
       "      <td>B007WTAJTO</td>\n",
       "      <td>2&amp;amp;1/2Men</td>\n",
       "      <td>[0, 0]</td>\n",
       "      <td>bought retail packaging arrived legit envelope...</td>\n",
       "      <td>5.00</td>\n",
       "      <td>best deal around</td>\n",
       "      <td>1373673600</td>\n",
       "      <td>2013-07-13</td>\n",
       "      <td>513</td>\n",
       "      <td>0</td>\n",
       "      <td>0</td>\n",
       "      <td>0.86</td>\n",
       "      <td>pos</td>\n",
       "    </tr>\n",
       "  </tbody>\n",
       "</table>\n",
       "</div>"
      ],
      "text/plain": [
       "       reviewerID        asin  reviewerName helpful                                         reviewText  overall                                 summary  unixReviewTime  reviewTime  day_diff  \\\n",
       "0  A3SBTW3WS4IQSN  B007WTAJTO           NaN  [0, 0]                                              issue     4.00                              Four Stars      1406073600  2014-07-23       138   \n",
       "1  A18K1ODH1I2MVB  B007WTAJTO          0mie  [0, 0]  purchased device worked advertised never much ...     5.00                           MOAR SPACE!!!      1382659200  2013-10-25       409   \n",
       "2  A2FII3I2MBMUIA  B007WTAJTO           1K3  [0, 0]  work expected higher capacity think made bit e...     4.00               nothing to really say....      1356220800  2012-12-23       715   \n",
       "3   A3H99DFEG68SR  B007WTAJTO           1m2  [0, 0]  think worked gb card went south one held prett...     5.00  Great buy at this price!!!  *** UPDATE      1384992000  2013-11-21       382   \n",
       "4  A375ZM4U047O79  B007WTAJTO  2&amp;1/2Men  [0, 0]  bought retail packaging arrived legit envelope...     5.00                        best deal around      1373673600  2013-07-13       513   \n",
       "\n",
       "   helpful_yes  total_vote  polarity_score sentiment_label  \n",
       "0            0           0            0.00             neg  \n",
       "1            0           0            0.00             neg  \n",
       "2            0           0            0.40             pos  \n",
       "3            0           0            0.65             pos  \n",
       "4            0           0            0.86             pos  "
      ]
     },
     "execution_count": 35,
     "metadata": {},
     "output_type": "execute_result"
    }
   ],
   "source": [
    "df[\"sentiment_label\"] = df[\"reviewText\"].apply(lambda x: \"pos\" if sia.polarity_scores(x)[\"compound\"] > 0 else \"neg\")\n",
    "df.head()"
   ]
  },
  {
   "cell_type": "code",
   "execution_count": 36,
   "id": "e9f34d13",
   "metadata": {},
   "outputs": [
    {
     "data": {
      "text/plain": [
       "pos    3944\n",
       "neg     971\n",
       "Name: sentiment_label, dtype: int64"
      ]
     },
     "execution_count": 36,
     "metadata": {},
     "output_type": "execute_result"
    }
   ],
   "source": [
    "df[\"sentiment_label\"].value_counts()"
   ]
  },
  {
   "cell_type": "code",
   "execution_count": 37,
   "id": "c0faa410",
   "metadata": {},
   "outputs": [
    {
     "data": {
      "text/plain": [
       "sentiment_label\n",
       "neg   4.09\n",
       "pos   4.71\n",
       "Name: overall, dtype: float64"
      ]
     },
     "execution_count": 37,
     "metadata": {},
     "output_type": "execute_result"
    }
   ],
   "source": [
    "df.groupby(\"sentiment_label\")[\"overall\"].mean()"
   ]
  },
  {
   "cell_type": "code",
   "execution_count": 38,
   "id": "085dc68a",
   "metadata": {},
   "outputs": [],
   "source": [
    "df[\"sentiment_label\"] = LabelEncoder().fit_transform(df[\"sentiment_label\"])"
   ]
  },
  {
   "cell_type": "code",
   "execution_count": 39,
   "id": "520e47ab",
   "metadata": {},
   "outputs": [
    {
     "data": {
      "text/html": [
       "<div>\n",
       "<style scoped>\n",
       "    .dataframe tbody tr th:only-of-type {\n",
       "        vertical-align: middle;\n",
       "    }\n",
       "\n",
       "    .dataframe tbody tr th {\n",
       "        vertical-align: top;\n",
       "    }\n",
       "\n",
       "    .dataframe thead th {\n",
       "        text-align: right;\n",
       "    }\n",
       "</style>\n",
       "<table border=\"1\" class=\"dataframe\">\n",
       "  <thead>\n",
       "    <tr style=\"text-align: right;\">\n",
       "      <th></th>\n",
       "      <th>reviewerID</th>\n",
       "      <th>asin</th>\n",
       "      <th>reviewerName</th>\n",
       "      <th>helpful</th>\n",
       "      <th>reviewText</th>\n",
       "      <th>overall</th>\n",
       "      <th>summary</th>\n",
       "      <th>unixReviewTime</th>\n",
       "      <th>reviewTime</th>\n",
       "      <th>day_diff</th>\n",
       "      <th>helpful_yes</th>\n",
       "      <th>total_vote</th>\n",
       "      <th>polarity_score</th>\n",
       "      <th>sentiment_label</th>\n",
       "    </tr>\n",
       "  </thead>\n",
       "  <tbody>\n",
       "    <tr>\n",
       "      <th>0</th>\n",
       "      <td>A3SBTW3WS4IQSN</td>\n",
       "      <td>B007WTAJTO</td>\n",
       "      <td>NaN</td>\n",
       "      <td>[0, 0]</td>\n",
       "      <td>issue</td>\n",
       "      <td>4.00</td>\n",
       "      <td>Four Stars</td>\n",
       "      <td>1406073600</td>\n",
       "      <td>2014-07-23</td>\n",
       "      <td>138</td>\n",
       "      <td>0</td>\n",
       "      <td>0</td>\n",
       "      <td>0.00</td>\n",
       "      <td>0</td>\n",
       "    </tr>\n",
       "    <tr>\n",
       "      <th>1</th>\n",
       "      <td>A18K1ODH1I2MVB</td>\n",
       "      <td>B007WTAJTO</td>\n",
       "      <td>0mie</td>\n",
       "      <td>[0, 0]</td>\n",
       "      <td>purchased device worked advertised never much ...</td>\n",
       "      <td>5.00</td>\n",
       "      <td>MOAR SPACE!!!</td>\n",
       "      <td>1382659200</td>\n",
       "      <td>2013-10-25</td>\n",
       "      <td>409</td>\n",
       "      <td>0</td>\n",
       "      <td>0</td>\n",
       "      <td>0.00</td>\n",
       "      <td>0</td>\n",
       "    </tr>\n",
       "    <tr>\n",
       "      <th>2</th>\n",
       "      <td>A2FII3I2MBMUIA</td>\n",
       "      <td>B007WTAJTO</td>\n",
       "      <td>1K3</td>\n",
       "      <td>[0, 0]</td>\n",
       "      <td>work expected higher capacity think made bit e...</td>\n",
       "      <td>4.00</td>\n",
       "      <td>nothing to really say....</td>\n",
       "      <td>1356220800</td>\n",
       "      <td>2012-12-23</td>\n",
       "      <td>715</td>\n",
       "      <td>0</td>\n",
       "      <td>0</td>\n",
       "      <td>0.40</td>\n",
       "      <td>1</td>\n",
       "    </tr>\n",
       "    <tr>\n",
       "      <th>3</th>\n",
       "      <td>A3H99DFEG68SR</td>\n",
       "      <td>B007WTAJTO</td>\n",
       "      <td>1m2</td>\n",
       "      <td>[0, 0]</td>\n",
       "      <td>think worked gb card went south one held prett...</td>\n",
       "      <td>5.00</td>\n",
       "      <td>Great buy at this price!!!  *** UPDATE</td>\n",
       "      <td>1384992000</td>\n",
       "      <td>2013-11-21</td>\n",
       "      <td>382</td>\n",
       "      <td>0</td>\n",
       "      <td>0</td>\n",
       "      <td>0.65</td>\n",
       "      <td>1</td>\n",
       "    </tr>\n",
       "    <tr>\n",
       "      <th>4</th>\n",
       "      <td>A375ZM4U047O79</td>\n",
       "      <td>B007WTAJTO</td>\n",
       "      <td>2&amp;amp;1/2Men</td>\n",
       "      <td>[0, 0]</td>\n",
       "      <td>bought retail packaging arrived legit envelope...</td>\n",
       "      <td>5.00</td>\n",
       "      <td>best deal around</td>\n",
       "      <td>1373673600</td>\n",
       "      <td>2013-07-13</td>\n",
       "      <td>513</td>\n",
       "      <td>0</td>\n",
       "      <td>0</td>\n",
       "      <td>0.86</td>\n",
       "      <td>1</td>\n",
       "    </tr>\n",
       "  </tbody>\n",
       "</table>\n",
       "</div>"
      ],
      "text/plain": [
       "       reviewerID        asin  reviewerName helpful                                         reviewText  overall                                 summary  unixReviewTime  reviewTime  day_diff  \\\n",
       "0  A3SBTW3WS4IQSN  B007WTAJTO           NaN  [0, 0]                                              issue     4.00                              Four Stars      1406073600  2014-07-23       138   \n",
       "1  A18K1ODH1I2MVB  B007WTAJTO          0mie  [0, 0]  purchased device worked advertised never much ...     5.00                           MOAR SPACE!!!      1382659200  2013-10-25       409   \n",
       "2  A2FII3I2MBMUIA  B007WTAJTO           1K3  [0, 0]  work expected higher capacity think made bit e...     4.00               nothing to really say....      1356220800  2012-12-23       715   \n",
       "3   A3H99DFEG68SR  B007WTAJTO           1m2  [0, 0]  think worked gb card went south one held prett...     5.00  Great buy at this price!!!  *** UPDATE      1384992000  2013-11-21       382   \n",
       "4  A375ZM4U047O79  B007WTAJTO  2&amp;1/2Men  [0, 0]  bought retail packaging arrived legit envelope...     5.00                        best deal around      1373673600  2013-07-13       513   \n",
       "\n",
       "   helpful_yes  total_vote  polarity_score  sentiment_label  \n",
       "0            0           0            0.00                0  \n",
       "1            0           0            0.00                0  \n",
       "2            0           0            0.40                1  \n",
       "3            0           0            0.65                1  \n",
       "4            0           0            0.86                1  "
      ]
     },
     "execution_count": 39,
     "metadata": {},
     "output_type": "execute_result"
    }
   ],
   "source": [
    "df.head()"
   ]
  },
  {
   "cell_type": "code",
   "execution_count": 40,
   "id": "c3d21da9",
   "metadata": {},
   "outputs": [],
   "source": [
    "y = df[\"sentiment_label\"] # dependent variable"
   ]
  },
  {
   "cell_type": "code",
   "execution_count": 41,
   "id": "65818207",
   "metadata": {},
   "outputs": [],
   "source": [
    "X = df[\"reviewText\"] # independent variable"
   ]
  },
  {
   "cell_type": "markdown",
   "id": "fd3bb425",
   "metadata": {},
   "source": [
    "## 6.1. | Count Vectors"
   ]
  },
  {
   "cell_type": "code",
   "execution_count": 42,
   "id": "c5283fd4",
   "metadata": {},
   "outputs": [],
   "source": [
    "vectorizer = CountVectorizer()"
   ]
  },
  {
   "cell_type": "code",
   "execution_count": 43,
   "id": "20b1c1b4",
   "metadata": {},
   "outputs": [],
   "source": [
    "X_count = vectorizer.fit_transform(X)"
   ]
  },
  {
   "cell_type": "code",
   "execution_count": 44,
   "id": "b19917ff",
   "metadata": {},
   "outputs": [
    {
     "data": {
      "text/plain": [
       "array(['access', 'accessed', 'accessible', 'accessing', 'accessory'],\n",
       "      dtype=object)"
      ]
     },
     "execution_count": 44,
     "metadata": {},
     "output_type": "execute_result"
    }
   ],
   "source": [
    "vectorizer.get_feature_names_out()[10:15]"
   ]
  },
  {
   "cell_type": "code",
   "execution_count": 45,
   "id": "3d7b32ed",
   "metadata": {},
   "outputs": [
    {
     "data": {
      "text/plain": [
       "array([[0, 0, 0, ..., 0, 0, 0],\n",
       "       [0, 0, 0, ..., 0, 0, 0],\n",
       "       [0, 0, 0, ..., 0, 0, 0],\n",
       "       [0, 0, 0, ..., 0, 0, 0],\n",
       "       [0, 0, 0, ..., 0, 0, 0]], dtype=int64)"
      ]
     },
     "execution_count": 45,
     "metadata": {},
     "output_type": "execute_result"
    }
   ],
   "source": [
    "X_count.toarray()[10:15]"
   ]
  },
  {
   "cell_type": "code",
   "execution_count": 46,
   "id": "2b0e1c62",
   "metadata": {},
   "outputs": [],
   "source": [
    "vectorizer2 = CountVectorizer(analyzer='word', ngram_range=(2, 2))"
   ]
  },
  {
   "cell_type": "code",
   "execution_count": 47,
   "id": "84a7830f",
   "metadata": {},
   "outputs": [],
   "source": [
    "X_n = vectorizer2.fit_transform(X)"
   ]
  },
  {
   "cell_type": "code",
   "execution_count": 48,
   "id": "1a4b7eed",
   "metadata": {},
   "outputs": [
    {
     "data": {
      "text/plain": [
       "array(['ability put', 'ability sandisk', 'ability something',\n",
       "       'ability stick', 'ability store'], dtype=object)"
      ]
     },
     "execution_count": 48,
     "metadata": {},
     "output_type": "execute_result"
    }
   ],
   "source": [
    "vectorizer2.get_feature_names_out()[10:15]"
   ]
  },
  {
   "cell_type": "code",
   "execution_count": 49,
   "id": "cb56baa0",
   "metadata": {},
   "outputs": [
    {
     "data": {
      "text/plain": [
       "array([[0, 0, 0, ..., 0, 0, 0],\n",
       "       [0, 0, 0, ..., 0, 0, 0],\n",
       "       [0, 0, 0, ..., 0, 0, 0],\n",
       "       ...,\n",
       "       [0, 0, 0, ..., 0, 0, 0],\n",
       "       [0, 0, 0, ..., 0, 0, 0],\n",
       "       [0, 0, 0, ..., 0, 0, 0]], dtype=int64)"
      ]
     },
     "execution_count": 49,
     "metadata": {},
     "output_type": "execute_result"
    }
   ],
   "source": [
    "X_n.toarray()"
   ]
  },
  {
   "cell_type": "code",
   "execution_count": null,
   "id": "a4cff9cd",
   "metadata": {},
   "outputs": [],
   "source": [
    "#Saving the Count Vectorizer\n",
    "pickle.dump(cv, open('Models/countVectorizer.pkl', 'wb'))"
   ]
  },
  {
   "cell_type": "markdown",
   "id": "dcbada34",
   "metadata": {},
   "source": [
    "## 6.2. | TF-IDF"
   ]
  },
  {
   "cell_type": "code",
   "execution_count": 50,
   "id": "6edbf4d4",
   "metadata": {},
   "outputs": [],
   "source": [
    "# word\n",
    "\n",
    "tf_idf_word_vectorizer = TfidfVectorizer()"
   ]
  },
  {
   "cell_type": "code",
   "execution_count": 51,
   "id": "d675e701",
   "metadata": {},
   "outputs": [],
   "source": [
    "X_tf_idf_word = tf_idf_word_vectorizer.fit_transform(X)"
   ]
  },
  {
   "cell_type": "code",
   "execution_count": 52,
   "id": "fc6fa120",
   "metadata": {},
   "outputs": [],
   "source": [
    "# n-gram\n",
    "\n",
    "tf_idf_ngram_vectorizer = TfidfVectorizer(ngram_range=(2, 3))"
   ]
  },
  {
   "cell_type": "code",
   "execution_count": 53,
   "id": "166ebaca",
   "metadata": {},
   "outputs": [],
   "source": [
    "X_tf_idf_ngram = tf_idf_ngram_vectorizer.fit_transform(X)"
   ]
  },
  {
   "cell_type": "markdown",
   "id": "f36d0eec",
   "metadata": {},
   "source": [
    "## 7 | Sentiment Modeling"
   ]
  },
  {
   "cell_type": "markdown",
   "id": "a47d2b0f",
   "metadata": {},
   "source": [
    "## 7.1. | Logistic Regression"
   ]
  },
  {
   "cell_type": "code",
   "execution_count": 54,
   "id": "82addf37",
   "metadata": {},
   "outputs": [],
   "source": [
    "log_model = LogisticRegression().fit(X_tf_idf_word, y)"
   ]
  },
  {
   "cell_type": "code",
   "execution_count": 55,
   "id": "a9be57a9",
   "metadata": {},
   "outputs": [
    {
     "data": {
      "text/plain": [
       "0.830111902339776"
      ]
     },
     "execution_count": 55,
     "metadata": {},
     "output_type": "execute_result"
    }
   ],
   "source": [
    "cross_val_score(log_model,\n",
    "                X_tf_idf_word,\n",
    "                y,\n",
    "                scoring=\"accuracy\",\n",
    "                cv=5).mean()"
   ]
  },
  {
   "cell_type": "code",
   "execution_count": 56,
   "id": "90c9be44",
   "metadata": {},
   "outputs": [],
   "source": [
    "new_review = pd.Series(\"this product is great\")\n",
    "new_review = pd.Series(\"look at that shit very bad\")\n",
    "new_review = pd.Series(\"it was good but I am sure that it fits me\")"
   ]
  },
  {
   "cell_type": "code",
   "execution_count": 57,
   "id": "5077f38d",
   "metadata": {},
   "outputs": [
    {
     "data": {
      "text/plain": [
       "array([1])"
      ]
     },
     "execution_count": 57,
     "metadata": {},
     "output_type": "execute_result"
    }
   ],
   "source": [
    "new_review = TfidfVectorizer().fit(X).transform(new_review)\n",
    "log_model.predict(new_review)"
   ]
  },
  {
   "cell_type": "code",
   "execution_count": 58,
   "id": "e1c2ecf5",
   "metadata": {},
   "outputs": [
    {
     "data": {
      "text/plain": [
       "array([1])"
      ]
     },
     "execution_count": 58,
     "metadata": {},
     "output_type": "execute_result"
    }
   ],
   "source": [
    "random_review = pd.Series(df[\"reviewText\"].sample(1).values)\n",
    "new_review = TfidfVectorizer().fit(X).transform(random_review)\n",
    "log_model.predict(new_review)"
   ]
  },
  {
   "cell_type": "markdown",
   "id": "e34574fc",
   "metadata": {},
   "source": [
    "## 7.2. | Random Forests"
   ]
  },
  {
   "cell_type": "code",
   "execution_count": 60,
   "id": "90fef5a3",
   "metadata": {},
   "outputs": [
    {
     "data": {
      "text/plain": [
       "0.8388606307222787"
      ]
     },
     "execution_count": 60,
     "metadata": {},
     "output_type": "execute_result"
    }
   ],
   "source": [
    "# Count Vectors\n",
    "rf_model = RandomForestClassifier().fit(X_count, y)\n",
    "cross_val_score(rf_model, X_count, y, cv=5, n_jobs=-1).mean()"
   ]
  },
  {
   "cell_type": "code",
   "execution_count": 61,
   "id": "8f9ae061",
   "metadata": {},
   "outputs": [
    {
     "data": {
      "text/plain": [
       "0.8272634791454732"
      ]
     },
     "execution_count": 61,
     "metadata": {},
     "output_type": "execute_result"
    }
   ],
   "source": [
    "# TF-IDF Word-Level\n",
    "rf_model = RandomForestClassifier().fit(X_tf_idf_word, y)\n",
    "cross_val_score(rf_model, X_tf_idf_word, y, cv=5, n_jobs=-1).mean()"
   ]
  },
  {
   "cell_type": "code",
   "execution_count": 62,
   "id": "3c44410a",
   "metadata": {},
   "outputs": [
    {
     "data": {
      "text/plain": [
       "0.7863682604272636"
      ]
     },
     "execution_count": 62,
     "metadata": {},
     "output_type": "execute_result"
    }
   ],
   "source": [
    "# TF-IDF N-GRAM\n",
    "rf_model = RandomForestClassifier().fit(X_tf_idf_ngram, y)\n",
    "cross_val_score(rf_model, X_tf_idf_ngram, y, cv=5, n_jobs=-1).mean()"
   ]
  },
  {
   "cell_type": "markdown",
   "id": "e019921a",
   "metadata": {},
   "source": [
    "## 7.3. | Hyperparameter Optimization"
   ]
  },
  {
   "cell_type": "code",
   "execution_count": 63,
   "id": "c8b4c154",
   "metadata": {},
   "outputs": [],
   "source": [
    "rf_model = RandomForestClassifier(random_state=17)"
   ]
  },
  {
   "cell_type": "code",
   "execution_count": 64,
   "id": "528966c2",
   "metadata": {},
   "outputs": [],
   "source": [
    "rf_params = {\"max_depth\": [8, None],\n",
    "             \"max_features\": [7, \"auto\"],\n",
    "             \"min_samples_split\": [2, 5, 8],\n",
    "             \"n_estimators\": [100, 200]}"
   ]
  },
  {
   "cell_type": "code",
   "execution_count": 65,
   "id": "ee14e183",
   "metadata": {},
   "outputs": [
    {
     "name": "stdout",
     "output_type": "stream",
     "text": [
      "Fitting 5 folds for each of 24 candidates, totalling 120 fits\n"
     ]
    }
   ],
   "source": [
    "rf_best_grid = GridSearchCV(rf_model,\n",
    "                            rf_params,\n",
    "                            cv=5,\n",
    "                            n_jobs=-1,\n",
    "                            verbose=1).fit(X_count, y)"
   ]
  },
  {
   "cell_type": "code",
   "execution_count": 66,
   "id": "34923755",
   "metadata": {},
   "outputs": [
    {
     "data": {
      "text/plain": [
       "{'max_depth': None,\n",
       " 'max_features': 'auto',\n",
       " 'min_samples_split': 2,\n",
       " 'n_estimators': 200}"
      ]
     },
     "execution_count": 66,
     "metadata": {},
     "output_type": "execute_result"
    }
   ],
   "source": [
    "rf_best_grid.best_params_"
   ]
  },
  {
   "cell_type": "code",
   "execution_count": 67,
   "id": "a49db475",
   "metadata": {},
   "outputs": [],
   "source": [
    "rf_final = rf_model.set_params(**rf_best_grid.best_params_, random_state=17).fit(X_count, y)"
   ]
  },
  {
   "cell_type": "code",
   "execution_count": 68,
   "id": "2bc39a1a",
   "metadata": {},
   "outputs": [
    {
     "data": {
      "text/plain": [
       "0.8431332655137336"
      ]
     },
     "execution_count": 68,
     "metadata": {},
     "output_type": "execute_result"
    }
   ],
   "source": [
    "cross_val_score(rf_final, X_count, y, cv=5, n_jobs=-1).mean()"
   ]
  },
  {
   "cell_type": "code",
   "execution_count": null,
   "id": "0e0182a1",
   "metadata": {},
   "outputs": [],
   "source": []
  },
  {
   "cell_type": "code",
   "execution_count": null,
   "id": "2cdc55a3",
   "metadata": {},
   "outputs": [],
   "source": []
  }
 ],
 "metadata": {
  "kernelspec": {
   "display_name": "Python 3 (ipykernel)",
   "language": "python",
   "name": "python3"
  },
  "language_info": {
   "codemirror_mode": {
    "name": "ipython",
    "version": 3
   },
   "file_extension": ".py",
   "mimetype": "text/x-python",
   "name": "python",
   "nbconvert_exporter": "python",
   "pygments_lexer": "ipython3",
   "version": "3.10.9"
  }
 },
 "nbformat": 4,
 "nbformat_minor": 5
}
